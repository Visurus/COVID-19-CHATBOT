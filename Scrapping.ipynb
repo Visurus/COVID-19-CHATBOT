{
 "cells": [
  {
   "cell_type": "code",
   "execution_count": 1,
   "metadata": {},
   "outputs": [],
   "source": [
    "#importing libraries\n",
    "\n",
    "from bs4 import BeautifulSoup as Soup\n",
    "import urllib.request\n",
    "import unicodedata\n",
    "import json\n",
    "import csv\n",
    "# end "
   ]
  },
  {
   "cell_type": "code",
   "execution_count": 2,
   "metadata": {},
   "outputs": [],
   "source": [
    "# function for parsing data\n",
    "\n",
    "def parse(url = '',class_string = ''):\n",
    "    request=urllib.request.Request(url,None,headers)\n",
    "    response = urllib.request.urlopen(request)\n",
    "    data = response.read()\n",
    "    parsed_data = Soup(data,'lxml')\n",
    "    division = parsed_data.find('div',class_ = class_string)\n",
    "    return division\n",
    "# end"
   ]
  },
  {
   "cell_type": "code",
   "execution_count": 10,
   "metadata": {},
   "outputs": [],
   "source": [
    "# function for creating json file\n",
    "\n",
    "def create_json(question_list,answer_list,topics):\n",
    "    ques_ans_list = []\n",
    "    for i in range(len(question_list)):\n",
    "        temp = {question_list[i][j]:answer_list[i][j] for j in range(len(question_list[i]))}\n",
    "        ques_ans_list.append(temp)\n",
    "    topic_dict = {topics[i] : ques_ans_list[i] for i in range(len(topics))}\n",
    "    with open('data/topic_list.json','w') as f:\n",
    "        json.dump(topic_dict,f)\n",
    "# end"
   ]
  },
  {
   "cell_type": "code",
   "execution_count": 16,
   "metadata": {},
   "outputs": [],
   "source": [
    "# function for creating csv file from question answers \n",
    "\n",
    "def create_csv(question_list,answer_list):\n",
    "    question_flat = [question for  questions in question_list for question in questions]\n",
    "    answer_flat = [answer for answers in answer_list for answer in answers]\n",
    "    with open('data/ques_ans.csv','w',encoding = 'utf-8') as file:\n",
    "        csvwriter = csv.writer(file)\n",
    "        csvwriter.writerow(['Context','Answer'])\n",
    "        for i in range(len(question_flat)):\n",
    "            csvwriter.writerow([question_flat[i],answer_flat[i]])\n",
    "# end"
   ]
  },
  {
   "cell_type": "code",
   "execution_count": 6,
   "metadata": {},
   "outputs": [],
   "source": [
    "#initializing common content\n",
    "\n",
    "user_agent = 'Mozilla/5.0 (Windows; U; Windows NT 5.1; en-US; rv:1.9.0.7) Gecko/2009021910 Firefox/3.0.7'\n",
    "headers={'User-Agent':user_agent,}\n",
    "# end"
   ]
  },
  {
   "cell_type": "code",
   "execution_count": 7,
   "metadata": {
    "scrolled": true
   },
   "outputs": [],
   "source": [
    "# accessing main page and getting links and topics\n",
    "\n",
    "url = 'https://www.who.int/emergencies/diseases/novel-coronavirus-2019/question-and-answers-hub'\n",
    "cstring = 'sf-list-vertical sf-list-vertical__nodate'\n",
    "parsed_data = parse(url,cstring)\n",
    "links = []\n",
    "topics = []\n",
    "for data in parsed_data.find_all('a'):\n",
    "    topics.append(data.span.text)\n",
    "    links.append('https://www.who.int/'+data['href'])\n",
    "# end"
   ]
  },
  {
   "cell_type": "code",
   "execution_count": 8,
   "metadata": {},
   "outputs": [],
   "source": [
    "# scrapping questions and answers and putting them in the list\n",
    "\n",
    "cstring = 'sf-accordion'\n",
    "question_list = []\n",
    "answer_list = []\n",
    "for link in links:\n",
    "    parsed_data = parse(link,cstring)\n",
    "    questions = []\n",
    "    answers = []\n",
    "    for data in parsed_data.find_all('div',class_ = \"sf-accordion__panel\"):\n",
    "        questions.append(data.a.text)\n",
    "        answers.append(data.find('div',class_ = 'sf-accordion__content').text)\n",
    "    questions = [question.strip() for question in questions]\n",
    "    answers = [answer.strip() for answer in answers]\n",
    "    answers = [unicodedata.normalize('NFKD',answer) for answer in answers]\n",
    "    question_list.append(questions)\n",
    "    answer_list.append(answers)\n",
    "# end  "
   ]
  },
  {
   "cell_type": "code",
   "execution_count": 18,
   "metadata": {},
   "outputs": [],
   "source": [
    "# sending data to files\n",
    "\n",
    "create_json(question_list,answer_list,topics)\n",
    "create_csv(question_list,answer_list)\n",
    "#end"
   ]
  },
  {
   "cell_type": "code",
   "execution_count": null,
   "metadata": {},
   "outputs": [],
   "source": []
  }
 ],
 "metadata": {
  "kernelspec": {
   "display_name": "Python 3",
   "language": "python",
   "name": "python3"
  },
  "language_info": {
   "codemirror_mode": {
    "name": "ipython",
    "version": 3
   },
   "file_extension": ".py",
   "mimetype": "text/x-python",
   "name": "python",
   "nbconvert_exporter": "python",
   "pygments_lexer": "ipython3",
   "version": "3.8.3"
  }
 },
 "nbformat": 4,
 "nbformat_minor": 4
}
