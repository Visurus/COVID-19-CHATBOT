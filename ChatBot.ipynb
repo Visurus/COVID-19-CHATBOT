{
 "cells": [
  {
   "cell_type": "code",
   "execution_count": 1,
   "metadata": {},
   "outputs": [],
   "source": [
    "# imorting files and libraries\n",
    "\n",
    "import tkinter as tk\n",
    "from PIL import Image,ImageTk\n",
    "# end"
   ]
  },
  {
   "cell_type": "code",
   "execution_count": 2,
   "metadata": {},
   "outputs": [],
   "source": [
    "import textwrap"
   ]
  },
  {
   "cell_type": "code",
   "execution_count": 3,
   "metadata": {},
   "outputs": [],
   "source": [
    "import tkinter as tk\n",
    "import requests\n",
    "import json\n",
    "\n",
    "url='https://api.covid19india.org/state_district_wise.json'"
   ]
  },
  {
   "cell_type": "code",
   "execution_count": 4,
   "metadata": {},
   "outputs": [],
   "source": [
    "# importing images \n",
    "\n",
    "image = Image.open(r'C:\\Users\\rachi\\OneDrive\\Documents\\CHATBOT\\Data\\background.jpg')\n",
    "bg_image = image.resize((400,400),Image.ANTIALIAS)\n",
    "# image = Image.open(r'C:\\Users\\lenovo\\Documents\\projects\\chatbot\\data\\back_2.png')\n",
    "# back_icon = image.resize((225, 85),Image.ANTIALIAS)\n",
    "image = Image.open(r'C:\\Users\\rachi\\OneDrive\\Documents\\CHATBOT\\Data\\stat_icon.png')\n",
    "stat_icon = image.resize((200, 50),Image.ANTIALIAS)\n",
    "image = Image.open(r'C:\\Users\\rachi\\OneDrive\\Documents\\CHATBOT\\Data\\chat_2.png')\n",
    "chat_icon = image.resize((200, 50),Image.ANTIALIAS)\n",
    "logo = Image.open(r'C:\\Users\\rachi\\OneDrive\\Documents\\CHATBOT\\Data\\Chatbot_logo.png')\n",
    "# end\n"
   ]
  },
  {
   "cell_type": "code",
   "execution_count": 5,
   "metadata": {},
   "outputs": [],
   "source": [
    "def get_stat():\n",
    "    data = requests.get(url)\n",
    "    data = data.json()\n",
    "    return data\n",
    "\n",
    "def update_options_B(*args):\n",
    "    districts = list(data[variable_a.get()]['districtData'].keys())\n",
    "    variable_b.set(districts[0])\n",
    "    menu = optionmenu_b['menu']\n",
    "    menu.delete(0, 'end')\n",
    "    for district in districts:\n",
    "        menu.add_command(label=district, command=lambda dist=district: variable_b.set(dist))\n",
    "\n",
    "def update_labels(*arg):\n",
    "    try:\n",
    "        text.set('active')\n",
    "        text_value.set(str(data[variable_a.get()]['districtData'][variable_b.get()]['active']))\n",
    "    except:\n",
    "        pass\n",
    "\n",
    "def update_new(text,delta):\n",
    "    try:\n",
    "        text.set(text_list[(text_list.index(text.get())+delta)%4])\n",
    "        text_value.set(str(data[variable_a.get()]['districtData'][variable_b.get()][str(text.get())]))\n",
    "    except:\n",
    "        pass\n",
    "\n",
    "data = get_stat()\n",
    "text_list = ['active','confirmed','deceased','recovered']\n"
   ]
  },
  {
   "cell_type": "code",
   "execution_count": null,
   "metadata": {},
   "outputs": [],
   "source": [
    "# importing libraries\n",
    "import numpy as np\n",
    "import pandas as pd\n",
    "import tensorflow as tf\n",
    "import tensorflow_hub as hub\n",
    "import re\n",
    "\n",
    "# dataset coronavirus WHO\n",
    "pd.set_option('max_colwidth', 100) \n",
    "data1 = pd.read_csv(\"Data/ques_ans.csv\", encoding='utf8')"
   ]
  },
  {
   "cell_type": "code",
   "execution_count": 7,
   "metadata": {},
   "outputs": [],
   "source": [
    "def preprocess_sentences(input_sentences):\n",
    "    return [re.sub(r'(covid-19|covid)', 'coronavirus', input_sentence, flags=re.I) \n",
    "            for input_sentence in input_sentences]"
   ]
  },
  {
   "cell_type": "code",
   "execution_count": 8,
   "metadata": {},
   "outputs": [],
   "source": [
    "# Load module containing USE\n",
    "module = hub.load('Resources/universal_sentence_encoder')"
   ]
  },
  {
   "cell_type": "code",
   "execution_count": null,
   "metadata": {},
   "outputs": [],
   "source": [
    "# Create question embeddings\n",
    "pd.set_option('max_colwidth', 100)  # Increase column width\n",
    "data1 = pd.read_csv(\"Data/ques_ans.csv\", encoding='utf8')\n",
    "question = data1['Context']\n",
    "question_embeddings = module(question)"
   ]
  },
  {
   "cell_type": "code",
   "execution_count": 54,
   "metadata": {},
   "outputs": [],
   "source": [
    "## function to return answer\n",
    "\n",
    "def find_best_answer(question: str) -> str:\n",
    "    embedding = module([question,])\n",
    "    # compute dot product with each question:\n",
    "    scores = question_embeddings @ tf.transpose(embedding)\n",
    "\n",
    "    return data1['Answer'][np.argmax(tf.squeeze(scores).numpy())]\n",
    "#end"
   ]
  },
  {
   "cell_type": "code",
   "execution_count": 55,
   "metadata": {},
   "outputs": [],
   "source": [
    "def clr():\n",
    "    ChatLog.config(state=tk.NORMAL)\n",
    "    ChatLog.delete('0.0',tk.END)\n",
    "    ChatLog.config(state=tk.DISABLED)\n"
   ]
  },
  {
   "cell_type": "code",
   "execution_count": 56,
   "metadata": {},
   "outputs": [],
   "source": [
    "# function to send data from the app\n",
    "\n",
    "def send(event):\n",
    "    msg = EntryBox.get().strip()\n",
    "    msg = textwrap.fill(msg,45)\n",
    "    EntryBox.delete(\"0\",tk.END)\n",
    "    if msg != '':\n",
    "        ChatLog.config(state=tk.NORMAL)\n",
    "       \n",
    "        ChatLog.insert(tk.END, ' ', ('right'))\n",
    "        ChatLog.window_create(tk.END, window=tk.Label(ChatLog, fg=fg_color, text=msg, \n",
    "        wraplength=200, font=(\"Arial\", 10), bg=\"#5c5c5c\", bd=4, justify=\"left\"))\n",
    "        ChatLog.insert(tk.END,'\\n\\n ', \"left\")\n",
    "        ChatLog.config(foreground=fg_color, font=(\"Verdana\", 10))\n",
    "        ChatLog.yview(tk.END)\n",
    "        \n",
    "        res = find_best_answer(msg)\n",
    "        ChatLog.window_create(tk.END, window=tk.Label(ChatLog, fg=fg_color, text=res, \n",
    "        wraplength=200, font=(\"Arial\", 10), bg=\"#5c5c5c\", bd=4, justify=\"left\"))\n",
    "        ChatLog.insert(tk.END, '\\n\\n ', \"right\")\n",
    "        ChatLog.config(state=tk.DISABLED)\n",
    "        ChatLog.yview(tk.END)"
   ]
  },
  {
   "cell_type": "code",
   "execution_count": 57,
   "metadata": {},
   "outputs": [],
   "source": [
    "# fucntion to change frames\n",
    "\n",
    "def forget(widget):\n",
    "    widget.grid(row = 0,column = 0)\n",
    "    home_frame.grid_forget()\n",
    "# end"
   ]
  },
  {
   "cell_type": "code",
   "execution_count": 58,
   "metadata": {},
   "outputs": [],
   "source": [
    "def retrieve(widget): \n",
    "    home_frame.grid(row = 0,column = 0)\n",
    "    widget.grid_forget()"
   ]
  },
  {
   "cell_type": "code",
   "execution_count": 59,
   "metadata": {},
   "outputs": [],
   "source": [
    "# creating main application\n",
    "\n",
    "base = tk.Tk()\n",
    "base.title(\"COIVD-19 Chatbot\")\n",
    "base.geometry(\"400x500\")\n",
    "base.resizable(width=tk.FALSE, height=tk.FALSE)\n",
    "# end\n",
    "\n",
    "## initializing frames \n",
    "stat_frame = tk.Frame(base,width = 400,height = 500,bg = '#5c5c5c' )\n",
    "chat_frame = tk.Frame(base,width = 400 , height = 500,bg = '#5c5c5c')\n",
    "home_frame = tk.Frame(base,width = 400, height = 500)\n",
    "home_frame.grid(row = 0,column = 0)\n",
    "# chat_frame.grid(row = 0, column = 0)\n",
    "# stat_frame.grid(row = 0,column = 0)\n",
    "photo = ImageTk.PhotoImage(logo)\n",
    "base.iconphoto(False, photo)\n",
    "#end \n"
   ]
  },
  {
   "cell_type": "code",
   "execution_count": 60,
   "metadata": {},
   "outputs": [],
   "source": [
    "# initializing home frame\n",
    "\n",
    "#creating background\n",
    "render = ImageTk.PhotoImage(bg_image)\n",
    "img = tk.Label(home_frame, image=render, compound = tk.LEFT)\n",
    "#en\n",
    "\n",
    "# creating buttons\n",
    "\n",
    "#faq button\n",
    "chat_image = ImageTk.PhotoImage(chat_icon)\n",
    "btn_faq =tk.Button(home_frame,image = chat_image,font= {'size':16},\n",
    "                   text = \"Chat\",fg = \"#828282\",bg = '#f7f7f7',\n",
    "                   compound = tk.TOP,\n",
    "                   width = 190,height = 88,relief=tk.GROOVE,\n",
    "            command = lambda:forget(chat_frame))\n",
    "#end\n",
    "\n",
    "#stat button\n",
    "stat_image = ImageTk.PhotoImage(stat_icon)\n",
    "btn_stat=tk.Button(home_frame, image = stat_image,font= {'size':16},\n",
    "                   text = \"Statistics\",fg = \"gray\",bg = '#f7f7f7',\n",
    "                   compound = tk.TOP,\n",
    "                   width = 190,height = 88,relief=tk.GROOVE,\n",
    "                  command = lambda:forget(stat_frame))\n",
    "#end\n",
    "\n",
    "#end\n",
    "\n",
    "\n",
    "# place all the component on frame\n",
    "btn_faq.grid(row = 8, column = 0, sticky = tk.S)\n",
    "btn_stat.grid(row = 8, column = 1, sticky = tk.S, padx = (0,12))\n",
    "img.grid(row = 0 ,column = 0,rowspan = 8,columnspan = 2,padx = (0,10), pady= 0, sticky = \"nsew\")\n",
    "# end\n",
    "\n",
    "# end of home frame\n"
   ]
  },
  {
   "cell_type": "code",
   "execution_count": 61,
   "metadata": {},
   "outputs": [],
   "source": [
    "fg_color = \"#e8e8e8\"\n",
    "bg_color = \"#2c2c2c\""
   ]
  },
  {
   "cell_type": "code",
   "execution_count": 62,
   "metadata": {},
   "outputs": [],
   "source": [
    "# # initializing chat frame\n",
    "\n",
    "#Creating Chat window\n",
    "ChatLog = tk.Text(chat_frame, bd=5, bg=bg_color, height=\"8\", width=\"50\", font=\"Arial\",relief=tk.GROOVE)\n",
    "ChatLog.tag_config('right',justify = 'right')\n",
    "ChatLog.config(state=tk.DISABLED)\n",
    "#end of chat window\n",
    "\n",
    "#Bind scrollbar to Chat window\n",
    "scrollbar = tk.Scrollbar(chat_frame, command=ChatLog.yview,bg = bg_color)\n",
    "ChatLog['yscrollcommand'] = scrollbar.set\n",
    "#end of scrollbar\n",
    "\n",
    "#Create Button to send message\n",
    "return_btn = tk.Button(chat_frame,text = 'Return',bg = bg_color,fg = fg_color,command = lambda:retrieve(chat_frame))\n",
    "clr_btn = tk.Button(chat_frame,text = 'Clear Chat',bg =bg_color,fg = fg_color,command = clr)\n",
    "#end of button\n",
    "\n",
    "#Create the box to enter message\n",
    "EntryBox = tk.Entry(chat_frame, bd=5, bg=bg_color,fg = fg_color,width=\"29\",font=\"Arial\",relief=tk.GROOVE)\n",
    "EntryBox.bind(\"<Return>\", send)\n",
    "#end of entrybox\n",
    "\n",
    "#Place all components in the chat frame\n",
    "scrollbar.place(x=401,y=6, height=386)\n",
    "ChatLog.place(x=6,y=6, height=386, width=387)\n",
    "EntryBox.place(x=6, y=401, height=30, width=387)\n",
    "return_btn.place(x=6, y=435, height=50,width = 100)\n",
    "clr_btn.place(x = 290, y = 435 ,height = 50, width = 100)\n",
    "#end\n",
    "\n",
    "# # chat frame end\n"
   ]
  },
  {
   "cell_type": "code",
   "execution_count": 63,
   "metadata": {},
   "outputs": [],
   "source": [
    "# # initializing stat frame\n",
    "\n",
    "#Creating Stat window\n",
    "variable_a = tk.StringVar()\n",
    "variable_b = tk.StringVar()\n",
    "text  = tk.StringVar()\n",
    "text_value = tk.StringVar()\n",
    "\n",
    "variable_a.trace('w', update_options_B)\n",
    "variable_b.trace('w',update_labels)\n",
    "\n",
    "optionmenu_a = tk.OptionMenu(stat_frame, variable_a, *data.keys())\n",
    "optionmenu_a.config(bg = bg_color,fg = fg_color)\n",
    "optionmenu_a['menu'].config(bg = bg_color,fg = fg_color)\n",
    "optionmenu_a[\"highlightthickness\"]=0\n",
    "optionmenu_b = tk.OptionMenu(stat_frame, variable_b, '')\n",
    "optionmenu_b.config(bg = bg_color,fg = fg_color)\n",
    "optionmenu_b['menu'].config(bg = bg_color,fg = fg_color)\n",
    "optionmenu_b[\"highlightthickness\"]=0\n",
    "\n",
    "#Create the dropbox to enter message\n",
    "lbl_state = tk.Label(stat_frame,text = 'State',font = {'size':20},relief = tk.GROOVE,bg=bg_color,fg = fg_color)\n",
    "lbl_district = tk.Label(stat_frame,text = 'District',font = {'size':20},relief = tk.GROOVE,bg=bg_color,fg = fg_color)\n",
    "\n",
    "lbl_text = tk.Label(stat_frame,textvariable = text,font = {'size':20},relief = tk.GROOVE,bg=bg_color,fg = fg_color)\n",
    "lbl_value = tk.Label(stat_frame,textvariable = text_value,font = {'size':50},relief = tk.GROOVE,bg=bg_color,fg = fg_color)\n",
    "\n",
    "btn_next = tk.Button(stat_frame,text = '-->',relief = tk.GROOVE,bg=bg_color,fg = fg_color,\n",
    "          command = lambda:update_new(text,1))\n",
    "btn_previous = tk.Button(stat_frame,text = '<--',relief = tk.GROOVE,bg=bg_color,fg = fg_color,\n",
    "          command = lambda:update_new(text,-1))\n",
    "\n",
    "btn_return = tk.Button(stat_frame,text = 'Return',relief = tk.GROOVE,bg=bg_color,fg = fg_color,\n",
    "                      command = lambda:retrieve(stat_frame))\n",
    "#End of dropbox\n",
    "\n",
    "#Place all components in the chat frame\n",
    "lbl_state.place(x = 100,y = 10 ,width = 200,height = 40)\n",
    "optionmenu_a.place(x = 100,y = 50 ,height = 40)\n",
    "\n",
    "lbl_district.place(x = 100,y = 100 ,width = 200,height = 40)\n",
    "optionmenu_b.place(x = 100,y = 140 ,height = 40)\n",
    "\n",
    "lbl_text.place(x = 140,y = 200 ,width = 120,height = 40)\n",
    "lbl_value.place(x = 120,y = 260 ,width = 160,height = 160)\n",
    "\n",
    "btn_next.place(x = 260,y = 200 ,width = 40,height = 40)\n",
    "btn_previous.place(x = 100,y = 200 ,width = 40,height = 40)\n",
    "btn_return.place(x = 6,y = 435,width = 100,height = 50)\n",
    "#end\n",
    "\n",
    "# # stat frame end"
   ]
  },
  {
   "cell_type": "code",
   "execution_count": null,
   "metadata": {},
   "outputs": [],
   "source": [
    "base.mainloop()\n",
    "# end of application\n"
   ]
  },
  {
   "cell_type": "code",
   "execution_count": null,
   "metadata": {},
   "outputs": [],
   "source": []
  }
 ],
 "metadata": {
  "kernelspec": {
   "display_name": "Python 3",
   "language": "python",
   "name": "python3"
  },
  "language_info": {
   "codemirror_mode": {
    "name": "ipython",
    "version": 3
   },
   "file_extension": ".py",
   "mimetype": "text/x-python",
   "name": "python",
   "nbconvert_exporter": "python",
   "pygments_lexer": "ipython3",
   "version": "3.8.3"
  }
 },
 "nbformat": 4,
 "nbformat_minor": 4
}
